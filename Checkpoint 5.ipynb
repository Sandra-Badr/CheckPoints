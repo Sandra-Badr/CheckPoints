{
 "cells": [
  {
   "cell_type": "markdown",
   "id": "fbbcb53a",
   "metadata": {},
   "source": [
    "Write a Python class named Point3D defined by x, y, and z. Define a method that returns (x, y ,z). This tells Python to represent this object in the following format: (x, y, z). Then create a variable named my_point containing a new instance of Point3D with x=1, y=2, and z=3 and print it."
   ]
  },
  {
   "cell_type": "code",
   "execution_count": 1,
   "id": "e788f52c",
   "metadata": {},
   "outputs": [
    {
     "name": "stdout",
     "output_type": "stream",
     "text": [
      "(1, 2, 3)\n"
     ]
    }
   ],
   "source": [
    "class Point3D:\n",
    "    def __init__(self, x, y, z):\n",
    "        self.x = x\n",
    "        self.y = y\n",
    "        self.z = z\n",
    "\n",
    "    def coordinates(self):\n",
    "        return (self.x, self.y, self.z)\n",
    "\n",
    "my_point = Point3D(1, 2, 3)\n",
    "\n",
    "print(my_point.coordinates())\n"
   ]
  },
  {
   "cell_type": "markdown",
   "id": "0424bbf9",
   "metadata": {},
   "source": [
    "Write a Python class named Rectangle constructed by a length and width. Define two methods, area and perimeter, which will compute the area and the perimeter of the rectangle. Then create a variable named my_rectangle containing a new instance of Rectangle with width=3 and length = 4 and compute both area and perimeter ( the area is expected to be 3*4=12 and perimeter 2*(3+4)=14)."
   ]
  },
  {
   "cell_type": "code",
   "execution_count": 2,
   "id": "dac3db41",
   "metadata": {},
   "outputs": [
    {
     "name": "stdout",
     "output_type": "stream",
     "text": [
      "Area: 12\n",
      "Perimeter: 14\n"
     ]
    }
   ],
   "source": [
    "class Rectangle:\n",
    "    def __init__(self, length, width):\n",
    "        self.length = length\n",
    "        self.width = width\n",
    "\n",
    "    def area(self):\n",
    "        return self.length * self.width\n",
    "\n",
    "    def perimeter(self):\n",
    "        return 2 * (self.length + self.width)\n",
    "\n",
    "my_rectangle = Rectangle(length=4, width=3)\n",
    "\n",
    "print(\"Area:\", my_rectangle.area())\n",
    "print(\"Perimeter:\", my_rectangle.perimeter())\n"
   ]
  },
  {
   "cell_type": "markdown",
   "id": "0f31174a",
   "metadata": {},
   "source": [
    "Write a Python  class named Circle constructed by its center O and radius r. Define two methods, area and perimeter, which will compute the area and the perimeter of the circle, and is Inside() method which allows you to test whether a point A(x, y) belongs to the circle C(O, r) or not."
   ]
  },
  {
   "cell_type": "code",
   "execution_count": 3,
   "id": "e1a16324",
   "metadata": {},
   "outputs": [
    {
     "name": "stdout",
     "output_type": "stream",
     "text": [
      "Area: 78.53981633974483\n",
      "Perimeter: 31.41592653589793\n",
      "(2, 2) is inside the circle: True\n"
     ]
    }
   ],
   "source": [
    "import math\n",
    "\n",
    "class Circle:\n",
    "    def __init__(self, center, radius):\n",
    "        self.center = center\n",
    "        self.radius = radius\n",
    "\n",
    "    def area(self):\n",
    "        return math.pi * self.radius**2\n",
    "\n",
    "    def perimeter(self):\n",
    "        return 2 * math.pi * self.radius\n",
    "\n",
    "    def is_inside(self, point):\n",
    "        distance = math.sqrt((point[0] - self.center[0])**2 + (point[1] - self.center[1])**2)\n",
    "        return distance <= self.radius\n",
    "\n",
    "\n",
    "my_circle = Circle(center=(0, 0), radius=5)\n",
    "\n",
    "print(\"Area:\", my_circle.area())\n",
    "print(\"Perimeter:\", my_circle.perimeter())\n",
    "print(\"(2, 2) is inside the circle:\", my_circle.is_inside((2, 2)))\n"
   ]
  },
  {
   "cell_type": "markdown",
   "id": "ffe3fe48",
   "metadata": {},
   "source": [
    "Suppose we want to model a bank account with support for deposit and withdraw operations. Let’s create a Python class named Bank defined by its balance. Define two methods, deposit and withdraw, to compute the new amount of each operation."
   ]
  },
  {
   "cell_type": "code",
   "execution_count": 12,
   "id": "2fd35f2c",
   "metadata": {},
   "outputs": [
    {
     "name": "stdout",
     "output_type": "stream",
     "text": [
      "after deposit: 6000\n",
      "after withdrawal: 5400\n"
     ]
    }
   ],
   "source": [
    "class Bank:\n",
    "    def __init__(self, balance=0):\n",
    "        self.balance = balance\n",
    "\n",
    "    def deposit(self, amount):\n",
    "        self.balance += amount\n",
    "        return self.balance\n",
    "\n",
    "    def withdraw(self, amount):\n",
    "        if amount <= self.balance:\n",
    "            self.balance -= amount\n",
    "            return self.balance\n",
    "        else:\n",
    "            return \"Funds are insufficient\"\n",
    "        \n",
    "bank_account = Bank(balance=5000)\n",
    "        \n",
    "print(\"after deposit:\", bank_account.deposit(1000))\n",
    "print(\"after withdrawal:\", bank_account.withdraw(600))\n"
   ]
  },
  {
   "cell_type": "code",
   "execution_count": null,
   "id": "a7080982",
   "metadata": {},
   "outputs": [],
   "source": []
  }
 ],
 "metadata": {
  "kernelspec": {
   "display_name": "Python 3 (ipykernel)",
   "language": "python",
   "name": "python3"
  },
  "language_info": {
   "codemirror_mode": {
    "name": "ipython",
    "version": 3
   },
   "file_extension": ".py",
   "mimetype": "text/x-python",
   "name": "python",
   "nbconvert_exporter": "python",
   "pygments_lexer": "ipython3",
   "version": "3.9.7"
  }
 },
 "nbformat": 4,
 "nbformat_minor": 5
}
