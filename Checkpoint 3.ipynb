{
 "cells": [
  {
   "cell_type": "markdown",
   "id": "1914c06d",
   "metadata": {},
   "source": [
    "Question 1 \n",
    "\n",
    "Write a Python program that multiplies all the items in a list.\n",
    "\n",
    "Sample list= [2, 3, 6]\n",
    "\n",
    "Result = 36"
   ]
  },
  {
   "cell_type": "code",
   "execution_count": 13,
   "id": "ddeb20d1",
   "metadata": {},
   "outputs": [
    {
     "name": "stdout",
     "output_type": "stream",
     "text": [
      "36\n"
     ]
    }
   ],
   "source": [
    "def mult_list(items):\n",
    "    \n",
    "    Z = 1\n",
    "   \n",
    "    for x in items:\n",
    "        \n",
    "        Z *= x\n",
    "    \n",
    "    return Z\n",
    "\n",
    "print(mult_list([2, 3, 6]))\n"
   ]
  },
  {
   "cell_type": "markdown",
   "id": "9b9628c4",
   "metadata": {},
   "source": [
    "Question 2\n",
    "\n",
    "Write a Python program to get a list, sorted in increasing order by the last element in each tuple, from a given list of non-empty tuples.\n",
    "\n",
    "Sample List : [(2, 5), (1, 2), (4, 4), (2, 3), (2, 1)]\n",
    "\n",
    "Expected result : [(2, 1), (1, 2), (2, 3), (4, 4), (2, 5)]\n",
    "\n",
    "Hint: You can use the sort function."
   ]
  },
  {
   "cell_type": "code",
   "execution_count": 14,
   "id": "f4ce2135",
   "metadata": {},
   "outputs": [
    {
     "name": "stdout",
     "output_type": "stream",
     "text": [
      "[(2, 1), (1, 2), (2, 3), (4, 4), (2, 5)]\n"
     ]
    }
   ],
   "source": [
    "def last(tuple_item):\n",
    "    return tuple_item[-1]\n",
    "\n",
    "def list_Sort(tuples_list):\n",
    "    \n",
    "    return sorted(tuples_list, key=last)\n",
    "\n",
    "print(list_Sort([(2, 5), (1, 2), (4, 4), (2, 3), (2, 1)]))\n"
   ]
  },
  {
   "cell_type": "markdown",
   "id": "138db09f",
   "metadata": {},
   "source": [
    "Question 3 \n",
    "\n",
    "Write a Python program that combines two dictionaries by adding values for common keys.\n",
    "\n",
    "d1 = {'a': 100, 'b': 200, 'c':300}\n",
    "\n",
    "d2 = {'a': 300, 'b': 200, 'd':400}\n",
    "\n",
    "Expected result: {'a': 400, 'b': 400, 'd': 400, 'c': 300}"
   ]
  },
  {
   "cell_type": "code",
   "execution_count": 15,
   "id": "79ef67d4",
   "metadata": {},
   "outputs": [
    {
     "name": "stdout",
     "output_type": "stream",
     "text": [
      "Expected result: {'a': 400, 'b': 400, 'c': 300, 'd': 400}\n"
     ]
    }
   ],
   "source": [
    "dict1 = {'a': 100, 'b': 200, 'c': 300}\n",
    "dict2 = {'a': 300, 'b': 200, 'd': 400}\n",
    "\n",
    "dict_1_2_combined = {}\n",
    "\n",
    "for key, value in dict1.items():\n",
    "    dict_1_2_combined[key] = dict_1_2_combined.get(key, 0) + value\n",
    "\n",
    "for key, value in dict2.items():\n",
    "    dict_1_2_combined[key] = dict_1_2_combined.get(key, 0) + value\n",
    "\n",
    "print(\"Expected result:\", dict_1_2_combined)\n"
   ]
  },
  {
   "cell_type": "markdown",
   "id": "29bc0d64",
   "metadata": {},
   "source": [
    "Question 4\n",
    "\n",
    "With a given integral number n, write a program to generate a dictionary that contains (i, i*i) so that is an integral number between 1 and n (both included). Then the program should print the dictionary. Suppose the following input is supplied to the program: 8. Then, the output should be: {1: 1, 2: 4, 3: 9, 4: 16, 5: 25, 6: 36, 7: 49, 8: 64}\n",
    "\n"
   ]
  },
  {
   "cell_type": "code",
   "execution_count": 16,
   "id": "8e4b4685",
   "metadata": {},
   "outputs": [
    {
     "name": "stdout",
     "output_type": "stream",
     "text": [
      "Enter an integral number: 4\n",
      "{1: 1, 2: 4, 3: 9, 4: 16}\n"
     ]
    }
   ],
   "source": [
    "n = int(input(\"Enter an integral number: \"))\n",
    "\n",
    "dict_1 = {}\n",
    "\n",
    "for i in range(1, n + 1):\n",
    "    \n",
    "    dict_1[i] = i * i\n",
    "\n",
    "\n",
    "print(dict_1)\n"
   ]
  },
  {
   "cell_type": "markdown",
   "id": "3c1ff974",
   "metadata": {},
   "source": [
    "Question 5\n",
    "\n",
    "Write a program to sort a tuple by its float element.\n",
    "\n",
    "For example: list= [('item1', '12.20'), ('item2', '15.10'), ('item3', '24.5')]\n",
    "\n",
    "Expected result: [('item3', '24.5'), ('item2', '15.10'), ('item1', '12.20')]"
   ]
  },
  {
   "cell_type": "code",
   "execution_count": 17,
   "id": "e88874e3",
   "metadata": {},
   "outputs": [
    {
     "name": "stdout",
     "output_type": "stream",
     "text": [
      "[('item3', '24.5'), ('item2', '15.10'), ('item1', '12.20')]\n"
     ]
    }
   ],
   "source": [
    "price = [('item1', '12.20'), ('item2', '15.10'), ('item3', '24.5')]\n",
    "\n",
    "sorted_price = sorted(price, key=lambda x: float(x[1]), reverse=True)\n",
    "\n",
    "print(sorted_price)\n"
   ]
  },
  {
   "cell_type": "code",
   "execution_count": 18,
   "id": "d9ee1b76",
   "metadata": {},
   "outputs": [
    {
     "name": "stdout",
     "output_type": "stream",
     "text": [
      "Expected result: [('item1', '12.20'), ('item2', '15.10'), ('item3', '24.5')]\n"
     ]
    }
   ],
   "source": [
    " tuple1 = [('item1', '12.20'), ('item2', '15.10'), ('item3', '24.5')]\n",
    "\n",
    "sort_tuple  = sorted(tuple1, key=lambda x: float(x[1]))\n",
    "\n",
    "print(\"Expected result:\", sort_tuple)\n"
   ]
  },
  {
   "cell_type": "markdown",
   "id": "f74c04db",
   "metadata": {},
   "source": [
    "Question 6\n",
    "\n",
    "Write a Python program to create a set.\n",
    "\n",
    "Examples : {0, 1, 2, 3, 4}\n",
    "\n",
    "Write a Python program to iteration over sets.\n",
    "\n",
    "Write a Python program to add members in a set and to remove items from a given set.\n",
    "\n"
   ]
  },
  {
   "cell_type": "code",
   "execution_count": 19,
   "id": "318a8340",
   "metadata": {},
   "outputs": [
    {
     "name": "stdout",
     "output_type": "stream",
     "text": [
      "Set: {0, 1, 2, 3, 4}\n"
     ]
    }
   ],
   "source": [
    "set_1 = {0, 1, 2, 3, 4}\n",
    "print(\"Set:\", set_1)"
   ]
  },
  {
   "cell_type": "code",
   "execution_count": 20,
   "id": "1b483d8f",
   "metadata": {},
   "outputs": [
    {
     "name": "stdout",
     "output_type": "stream",
     "text": [
      "0\n",
      "1\n",
      "2\n",
      "3\n",
      "4\n"
     ]
    }
   ],
   "source": [
    "set_2 = {0, 1, 2, 3, 4}\n",
    "for item in set_2:\n",
    "    print(item)"
   ]
  },
  {
   "cell_type": "code",
   "execution_count": 21,
   "id": "baaaa0de",
   "metadata": {},
   "outputs": [
    {
     "name": "stdout",
     "output_type": "stream",
     "text": [
      "Set_1: {0, 1, 2, 3, 4, 5}\n",
      "Set_2: {0, 1, 3, 4, 5}\n"
     ]
    }
   ],
   "source": [
    "set_3 = {0, 1, 2, 3, 4}\n",
    "set_3.add(5)\n",
    "print(\"Set_1:\", set_3)\n",
    "set_3.remove(2)\n",
    "print(\"Set_2:\", set_3)"
   ]
  },
  {
   "cell_type": "code",
   "execution_count": null,
   "id": "36c0447f",
   "metadata": {},
   "outputs": [],
   "source": []
  }
 ],
 "metadata": {
  "kernelspec": {
   "display_name": "Python 3 (ipykernel)",
   "language": "python",
   "name": "python3"
  },
  "language_info": {
   "codemirror_mode": {
    "name": "ipython",
    "version": 3
   },
   "file_extension": ".py",
   "mimetype": "text/x-python",
   "name": "python",
   "nbconvert_exporter": "python",
   "pygments_lexer": "ipython3",
   "version": "3.9.7"
  }
 },
 "nbformat": 4,
 "nbformat_minor": 5
}
