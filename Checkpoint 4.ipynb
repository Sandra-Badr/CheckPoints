{
 "cells": [
  {
   "cell_type": "markdown",
   "id": "d0fa9f06",
   "metadata": {},
   "source": [
    "Checkpoint Objective\n",
    " To create a calculator app that can perform basic arithmetic operations.\n",
    "\n",
    "Description: \n",
    "\n",
    "This exercise involves creating a simple calculator app using Python. The app should be able to perform addition, subtraction, multiplication, and division operations. It will prompt the user to input two numbers and an arithmetic operator, then perform the corresponding operation on the numbers and return the result.\n",
    "\n",
    "Example :\n",
    "\n",
    "Input:\n",
    "\n",
    "Enter the first number: 10\n",
    "\n",
    "Enter the second number: 5\n",
    "\n",
    "Enter the operator (+, -, *, /): *\n",
    "\n",
    "Output:\n",
    "\n",
    "The result is: 50"
   ]
  },
  {
   "cell_type": "markdown",
   "id": "8dac0966",
   "metadata": {},
   "source": [
    "Instructions\n",
    "Open a new Python file in your preferred code editor.\n",
    "Define a function called \"calculator\" that takes two arguments, \"num1\" and \"num2\".\n",
    "Within the function, prompt the user to enter an operator (+, -, *, /).\n",
    "Use conditional statements to determine which operation to perform based on the user's input.\n",
    "Return the result of the operation.\n",
    "Call the function calculator with two numbers and print the result.\n",
    "Handle cases where the user inputs invalid operators or tries to divide by zero.\n"
   ]
  },
  {
   "cell_type": "code",
   "execution_count": 6,
   "id": "2858868b",
   "metadata": {},
   "outputs": [
    {
     "name": "stdout",
     "output_type": "stream",
     "text": [
      "Enter the first number: 10\n",
      "Enter the second number: 5\n",
      "Enter the operator (+, -, *, /): *\n",
      "The result is: 50.0\n"
     ]
    }
   ],
   "source": [
    "def calculator(num1, num2):\n",
    "    \n",
    "    arithmetic_operators = input(\"Enter the operator (+, -, *, /): \")\n",
    "\n",
    "    if arithmetic_operators == '+':\n",
    "        \n",
    "        result = num1 + num2\n",
    "        \n",
    "    elif arithmetic_operators == '-':\n",
    "        \n",
    "        result = num1 - num2\n",
    "        \n",
    "    elif arithmetic_operators == '*':\n",
    "        \n",
    "        result = num1 * num2\n",
    "        \n",
    "    elif arithmetic_operators == '/':\n",
    "        \n",
    "        if num2 == 0:\n",
    "            \n",
    "            print(\"Cannot divide by zero.\")\n",
    "            \n",
    "            return None\n",
    "        \n",
    "        result = num1 / num2\n",
    "        \n",
    "    else:\n",
    "        \n",
    "        print(\" Invalid \")\n",
    "        \n",
    "        return None\n",
    "\n",
    "    return result\n",
    "\n",
    "\n",
    "num1 = float(input(\"Enter the first number: \"))\n",
    "\n",
    "num2 = float(input(\"Enter the second number: \"))\n",
    "\n",
    "\n",
    "result = calculator(num1, num2)\n",
    "\n",
    "if result is not None:\n",
    "    \n",
    "    print(\"The result is:\", result)\n"
   ]
  },
  {
   "cell_type": "code",
   "execution_count": null,
   "id": "dcf2dedc",
   "metadata": {},
   "outputs": [],
   "source": []
  }
 ],
 "metadata": {
  "kernelspec": {
   "display_name": "Python 3 (ipykernel)",
   "language": "python",
   "name": "python3"
  },
  "language_info": {
   "codemirror_mode": {
    "name": "ipython",
    "version": 3
   },
   "file_extension": ".py",
   "mimetype": "text/x-python",
   "name": "python",
   "nbconvert_exporter": "python",
   "pygments_lexer": "ipython3",
   "version": "3.9.7"
  }
 },
 "nbformat": 4,
 "nbformat_minor": 5
}
