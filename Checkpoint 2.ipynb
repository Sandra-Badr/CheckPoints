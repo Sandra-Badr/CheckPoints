{
 "cells": [
  {
   "cell_type": "markdown",
   "id": "9abcde58",
   "metadata": {},
   "source": [
    "# Instructions:\n",
    "\n",
    "Use the 'input' function to prompt the player to enter their guess as a string.\n",
    "\n",
    "\n",
    "Use the 'int' function to convert the player's guess to an integer.\n",
    "\n",
    "\n",
    "Use the 'import' statement to import the 'random' module.\n",
    "\n",
    "\n",
    "Use the 'random.randint()' function to generate a random integer between 1 and 100.\n",
    "\n",
    "\n",
    "Use an 'if/else' statement to check if the player's guess is too high, too low, or correct.\n",
    "\n",
    "\n",
    "Use the 'print' function to provide feedback to the player based on their guess.\n",
    "\n",
    "\n",
    "Use a 'while' loop to continue prompting the player for guesses until they correctly guess the number.\n",
    "\n",
    "\n",
    "Note: \n",
    "\n",
    "The game can be customized to allow the player to choose the range of numbers or the number of guesses they are allowed before they lose the game."
   ]
  },
  {
   "cell_type": "code",
   "execution_count": 6,
   "id": "451ebdb3",
   "metadata": {},
   "outputs": [
    {
     "name": "stdout",
     "output_type": "stream",
     "text": [
      "Welcome to the Guess the Number game!\n",
      "I'm thinking of a number between 1 and 100. Can you guess what it is?\n",
      "Enter your guess: 70\n",
      "Your guess is too low. Guess again.\n",
      "Enter your guess: 80\n",
      "Your guess is too low. Guess again.\n",
      "Enter your guess: 90\n",
      "Your guess is too high. Guess again.\n",
      "Enter your guess: 89\n",
      "Your guess is too high. Guess again.\n",
      "Enter your guess: 87\n",
      "Your guess is too high. Guess again.\n",
      "Enter your guess: 86\n",
      "Congratulations! You guessed the number correctly in 6 guesses!\n"
     ]
    }
   ],
   "source": [
    "import random\n",
    "\n",
    "print(\"Welcome to the Guess the Number game!\")\n",
    "print(\"I'm thinking of a number between 1 and 100. Can you guess what it is?\")\n",
    "\n",
    "unknown_number = random.randint(1, 100)\n",
    "\n",
    "\n",
    "guesses = 0\n",
    "\n",
    "while True:\n",
    "    try:\n",
    "       \n",
    "        guess = int(input(\"Enter your guess: \"))\n",
    "        \n",
    "        guesses += 1  \n",
    "        \n",
    "        if guess < unknown_number:\n",
    "            print(\"Your guess is too low. Guess again.\")\n",
    "        elif guess > unknown_number:\n",
    "            print(\"Your guess is too high. Guess again.\")\n",
    "        else:\n",
    "            print(f\"Congratulations! You guessed the number correctly in {guesses} guesses!\")\n",
    "            break  \n",
    "    except ValueError:\n",
    "        print(\"Please enter a valid number.\")\n"
   ]
  },
  {
   "cell_type": "code",
   "execution_count": null,
   "id": "54af9f9d",
   "metadata": {},
   "outputs": [],
   "source": []
  }
 ],
 "metadata": {
  "kernelspec": {
   "display_name": "Python 3 (ipykernel)",
   "language": "python",
   "name": "python3"
  },
  "language_info": {
   "codemirror_mode": {
    "name": "ipython",
    "version": 3
   },
   "file_extension": ".py",
   "mimetype": "text/x-python",
   "name": "python",
   "nbconvert_exporter": "python",
   "pygments_lexer": "ipython3",
   "version": "3.9.7"
  }
 },
 "nbformat": 4,
 "nbformat_minor": 5
}
